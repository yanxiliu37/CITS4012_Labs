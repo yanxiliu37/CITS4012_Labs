{
  "cells": [
    {
      "cell_type": "markdown",
      "metadata": {
        "id": "view-in-github",
        "colab_type": "text"
      },
      "source": [
        "<a href=\"https://colab.research.google.com/github/yanxiliu37/CITS4012_Labs/blob/main/CITS4012_Lab02.ipynb\" target=\"_parent\"><img src=\"https://colab.research.google.com/assets/colab-badge.svg\" alt=\"Open In Colab\"/></a>"
      ]
    },
    {
      "cell_type": "markdown",
      "metadata": {
        "id": "GCHPkKbuhPF6"
      },
      "source": [
        "# Lab 02\n",
        "\n",
        "Today we will investigate some word representation models.\n",
        "\n"
      ]
    },
    {
      "cell_type": "markdown",
      "metadata": {
        "id": "qZ0HLTPGemjV"
      },
      "source": [
        "## Word2Vec"
      ]
    },
    {
      "cell_type": "code",
      "source": [
        "!pip install gensim"
      ],
      "metadata": {
        "id": "tfNJCj3CJDNs",
        "colab": {
          "base_uri": "https://localhost:8080/"
        },
        "outputId": "1623462f-0a50-486f-f6e8-f3c99d9d5d00"
      },
      "execution_count": 1,
      "outputs": [
        {
          "output_type": "stream",
          "name": "stdout",
          "text": [
            "Requirement already satisfied: gensim in /usr/local/lib/python3.11/dist-packages (4.3.3)\n",
            "Requirement already satisfied: numpy<2.0,>=1.18.5 in /usr/local/lib/python3.11/dist-packages (from gensim) (1.26.4)\n",
            "Requirement already satisfied: scipy<1.14.0,>=1.7.0 in /usr/local/lib/python3.11/dist-packages (from gensim) (1.13.1)\n",
            "Requirement already satisfied: smart-open>=1.8.1 in /usr/local/lib/python3.11/dist-packages (from gensim) (7.3.0.post1)\n",
            "Requirement already satisfied: wrapt in /usr/local/lib/python3.11/dist-packages (from smart-open>=1.8.1->gensim) (1.17.2)\n"
          ]
        }
      ]
    },
    {
      "cell_type": "code",
      "execution_count": 2,
      "metadata": {
        "colab": {
          "base_uri": "https://localhost:8080/"
        },
        "id": "GNyhgK5QTOuD",
        "outputId": "9ed9cf7d-736d-4157-e743-31aa65d248f4"
      },
      "outputs": [
        {
          "output_type": "stream",
          "name": "stderr",
          "text": [
            "[nltk_data] Downloading package punkt_tab to /root/nltk_data...\n",
            "[nltk_data]   Unzipping tokenizers/punkt_tab.zip.\n"
          ]
        }
      ],
      "source": [
        "import pprint\n",
        "import re\n",
        "\n",
        "# For parsing our XML data\n",
        "from lxml import etree\n",
        "\n",
        "# For data processing\n",
        "import nltk\n",
        "nltk.download('punkt_tab')\n",
        "from nltk.tokenize import word_tokenize, sent_tokenize\n",
        "\n",
        "# For implementing the word2vec family of algorithms\n",
        "from gensim.models import Word2Vec\n",
        "\n",
        "import warnings\n",
        "warnings.simplefilter(action='ignore', category=FutureWarning)"
      ]
    },
    {
      "cell_type": "markdown",
      "metadata": {
        "id": "Bmae7urS8RHD"
      },
      "source": [
        "### Download data from Google Drive\n",
        "For today's lab we will download and use the TED script data from Google Drive."
      ]
    },
    {
      "cell_type": "markdown",
      "metadata": {
        "id": "gV7vMHSahdnf"
      },
      "source": [
        "#### Google Drive Access Setup\n",
        "Running the following code will generate a link and a field for entering a verification code.\n",
        "\n",
        "Click the link, which will direct to the Google Sign In page. Sign in with your own Google account by following the instructions on the page.\n",
        "\n",
        "Then copy the generated verification code from the page into the verification code field and press Enter"
      ]
    },
    {
      "cell_type": "code",
      "source": [
        "from pydrive2.auth import GoogleAuth\n",
        "from pydrive2.drive import GoogleDrive\n",
        "from google.colab import auth\n",
        "from oauth2client.client import GoogleCredentials\n",
        "# Authenticate and create the PyDrive client.\n",
        "auth.authenticate_user()\n",
        "gauth = GoogleAuth()\n",
        "gauth.credentials = GoogleCredentials.get_application_default()\n",
        "drive = GoogleDrive(gauth)"
      ],
      "metadata": {
        "id": "4O4xB1ell-lR"
      },
      "execution_count": 3,
      "outputs": []
    },
    {
      "cell_type": "markdown",
      "metadata": {
        "id": "ewAbjQzThnT5"
      },
      "source": [
        "#### Downloading TED Scripts from Google Drive\n",
        "Click on left side \"Files\" tab and see the file is downloaded successfully."
      ]
    },
    {
      "cell_type": "code",
      "execution_count": 4,
      "metadata": {
        "id": "EVk7tjwvhl-6"
      },
      "outputs": [],
      "source": [
        "id = '1B47OiEiG2Lo1jUY6hy_zMmHBxfKQuJ8-'\n",
        "downloaded = drive.CreateFile({'id':id})\n",
        "downloaded.GetContentFile('ted_en-20160408.xml')"
      ]
    },
    {
      "cell_type": "markdown",
      "metadata": {
        "id": "FIPpEvI4kqMV"
      },
      "source": [
        "### Data Preprocessing"
      ]
    },
    {
      "cell_type": "code",
      "execution_count": 5,
      "metadata": {
        "colab": {
          "base_uri": "https://localhost:8080/"
        },
        "id": "VYmEQgB7XoDE",
        "outputId": "e6bfa453-25db-4411-e69f-beb8f8dc5bc3"
      },
      "outputs": [
        {
          "output_type": "stream",
          "name": "stdout",
          "text": [
            "[['here', 'are', 'two', 'reasons', 'companies', 'fail', 'they', 'only', 'do', 'more', 'of', 'the', 'same', 'or', 'they', 'only', 'do', 'what', 's', 'new'], ['to', 'me', 'the', 'real', 'real', 'solution', 'to', 'quality', 'growth', 'is', 'figuring', 'out', 'the', 'balance', 'between', 'two', 'activities', 'exploration', 'and', 'exploitation'], ['both', 'are', 'necessary', 'but', 'it', 'can', 'be', 'too', 'much', 'of', 'a', 'good', 'thing'], ['consider', 'facit'], ['i', 'm', 'actually', 'old', 'enough', 'to', 'remember', 'them'], ['facit', 'was', 'a', 'fantastic', 'company'], ['they', 'were', 'born', 'deep', 'in', 'the', 'swedish', 'forest', 'and', 'they', 'made', 'the', 'best', 'mechanical', 'calculators', 'in', 'the', 'world'], ['everybody', 'used', 'them'], ['and', 'what', 'did', 'facit', 'do', 'when', 'the', 'electronic', 'calculator', 'came', 'along'], ['they', 'continued', 'doing', 'exactly', 'the', 'same']]\n"
          ]
        }
      ],
      "source": [
        "targetXML=open('ted_en-20160408.xml', 'r', encoding='UTF8')\n",
        "\n",
        "# Getting contents of <content> tag from the xml file\n",
        "target_text = etree.parse(targetXML)\n",
        "\n",
        "# Tokenising the sentence to process it by using NLTK library\n",
        "sent_text=[]\n",
        "for parse_text in target_text.xpath('//content/text()'):\n",
        "  # Removing \"Sound-effect labels\" using regular expression (regex) (i.e. (Audio), (Laughter))\n",
        "  content_text = re.sub(r'\\([^)]*\\)', '', parse_text)\n",
        "  sent_text.extend(sent_tokenize(content_text))\n",
        "\n",
        "# Removing punctuation and changing all characters to lower case\n",
        "normalized_text = []\n",
        "for string in sent_text:\n",
        "     tokens = re.sub(r\"[^a-z0-9]+\", \" \", string.lower())\n",
        "     normalized_text.append(tokens)\n",
        "\n",
        "# Tokenising each sentence to process individual word\n",
        "sentences=[]\n",
        "sentences=[word_tokenize(sentence) for sentence in normalized_text]\n",
        "\n",
        "# Prints only 10 (tokenised) sentences\n",
        "print(sentences[:10])"
      ]
    },
    {
      "cell_type": "markdown",
      "metadata": {
        "id": "CojV1MbhkQxK"
      },
      "source": [
        "### Word2Vec - Continuous Bag-Of-Words (CBOW)"
      ]
    },
    {
      "cell_type": "markdown",
      "metadata": {
        "id": "vLq1VIZ7TDog"
      },
      "source": [
        "For more details about gensim.models.word2vec you can refer to [API for Gensim Word2Vec](https://radimrehurek.com/gensim/models/word2vec.html)"
      ]
    },
    {
      "cell_type": "code",
      "execution_count": 7,
      "metadata": {
        "id": "zW1iEee3lZC9"
      },
      "outputs": [],
      "source": [
        "# Initialize and train a word2vec model with the following parameters:\n",
        "# sentence: iterable of iterables, i.e. the list of lists of tokens from our data\n",
        "# vector_size: dimensionality of the word vectors\n",
        "# window: window size\n",
        "# min_count: ignores all words with total frequency lower than the specified count value\n",
        "# workers: Use specified number of worker threads to train the model (=faster training with multicore machines)\n",
        "# sg: training algorithm, 0 for CBOW, 1 for skip-gram\n",
        "wv_cbow_model = Word2Vec(sentences=sentences, vector_size=100, window=5, min_count=5, workers=2, sg=0)"
      ]
    },
    {
      "cell_type": "code",
      "execution_count": 8,
      "metadata": {
        "colab": {
          "base_uri": "https://localhost:8080/"
        },
        "id": "2FKp3X7pkRm6",
        "outputId": "6326a316-9a3b-4e31-b8b2-4c656b4f2b74"
      },
      "outputs": [
        {
          "output_type": "stream",
          "name": "stdout",
          "text": [
            "[('woman', 0.8449835777282715),\n",
            " ('guy', 0.815414547920227),\n",
            " ('boy', 0.7716119885444641),\n",
            " ('lady', 0.7620885372161865),\n",
            " ('gentleman', 0.7301492691040039),\n",
            " ('girl', 0.7272547483444214),\n",
            " ('soldier', 0.7104945778846741),\n",
            " ('kid', 0.6866487860679626),\n",
            " ('poet', 0.6554141044616699),\n",
            " ('surgeon', 0.655370831489563)]\n"
          ]
        }
      ],
      "source": [
        "# The trained word vectors are stored in a KeyedVectors instance as model.wv\n",
        "# Get the top 10 similar words to 'man' by calling most_similar()\n",
        "# most_similar() computes cosine similarity between a simple mean of the vectors of the given words and the vectors for each word in the model\n",
        "\n",
        "similar_words= wv_cbow_model.wv.most_similar(\"man\") # topn=10 by default\n",
        "pprint.pprint(similar_words)"
      ]
    },
    {
      "cell_type": "code",
      "execution_count": 9,
      "metadata": {
        "colab": {
          "base_uri": "https://localhost:8080/"
        },
        "id": "q9201pniCRJ5",
        "outputId": "e7ad4821-c931-45c5-a707-a7d40569d1c0"
      },
      "outputs": [
        {
          "output_type": "stream",
          "name": "stdout",
          "text": [
            "(100,)\n"
          ]
        },
        {
          "output_type": "execute_result",
          "data": {
            "text/plain": [
              "array([ 0.5385908 , -1.2295983 , -0.7633656 ,  0.7312415 ,  2.7099702 ,\n",
              "        0.11568426,  0.07744954,  0.36015588, -0.50591516, -0.44491565,\n",
              "       -0.89614266, -1.196315  , -0.8240873 ,  0.75237495, -0.39266402,\n",
              "       -0.14520653, -0.1884913 ,  0.16151495,  1.2499559 , -1.2539833 ,\n",
              "        0.3736347 ,  0.35756266, -1.0950892 , -0.6783056 ,  1.5283959 ,\n",
              "       -0.4571984 , -1.7857654 , -0.25493076, -0.403534  , -0.99290335,\n",
              "       -0.48891693, -0.02978246,  1.5273577 ,  0.24085037, -0.7894675 ,\n",
              "       -0.7986828 , -1.4754035 , -0.82764375, -1.4883693 , -0.26207384,\n",
              "        1.3377031 , -1.4710041 , -0.68197906,  1.2187412 ,  0.90093714,\n",
              "       -0.37799504, -1.2613032 , -1.9696087 , -0.01756399, -0.988771  ,\n",
              "       -0.47383177, -2.0113468 ,  0.4529784 ,  0.1256928 , -0.33379656,\n",
              "       -0.20315303, -0.1452717 , -0.35224733, -1.6515548 , -0.45730186,\n",
              "       -0.33003587, -0.30715668,  1.1464694 ,  1.1147852 , -2.16859   ,\n",
              "        0.29408872, -0.78210664, -0.9215989 , -0.71348226,  1.9057213 ,\n",
              "        1.4202765 , -0.4548668 ,  1.7259606 , -1.4146398 , -1.1211613 ,\n",
              "       -2.1288276 ,  0.55618185,  0.11680993, -0.468416  ,  1.4758848 ,\n",
              "        0.28094354, -0.09312287, -0.32642335, -0.8410706 , -0.4926415 ,\n",
              "        0.36891124, -0.3720238 ,  0.78925866, -1.1496387 , -0.7593913 ,\n",
              "       -0.95223814,  0.4703176 ,  0.6385065 , -0.19298238,  2.462134  ,\n",
              "        0.19796772,  0.55350286,  0.5537508 , -3.451605  ,  2.1417847 ],\n",
              "      dtype=float32)"
            ]
          },
          "metadata": {},
          "execution_count": 9
        }
      ],
      "source": [
        "# Get the actual values of the word embedding\n",
        "print(wv_cbow_model.wv['man'].shape)\n",
        "wv_cbow_model.wv['man']"
      ]
    },
    {
      "cell_type": "markdown",
      "metadata": {
        "id": "dsFHg0znlPSf"
      },
      "source": [
        "### Word2Vec - Skip Gram"
      ]
    },
    {
      "cell_type": "code",
      "execution_count": 11,
      "metadata": {
        "id": "k16AowhCWUXu"
      },
      "outputs": [],
      "source": [
        "# Now we switch to a Skip Gram model by setting parameter sg=1\n",
        "wv_sg_model = Word2Vec(sentences=sentences, vector_size=100, window=5, min_count=5, workers=2, sg=1)"
      ]
    },
    {
      "cell_type": "code",
      "execution_count": 12,
      "metadata": {
        "colab": {
          "base_uri": "https://localhost:8080/"
        },
        "id": "e8UiVfr2cBtA",
        "outputId": "d9acf5eb-5626-4d70-fe00-0705bcb4c370"
      },
      "outputs": [
        {
          "output_type": "stream",
          "name": "stdout",
          "text": [
            "[('woman', 0.7594683170318604),\n",
            " ('guy', 0.7353674173355103),\n",
            " ('boy', 0.7108181118965149),\n",
            " ('soldier', 0.7084439992904663),\n",
            " ('gentleman', 0.6945844292640686),\n",
            " ('comedian', 0.676709771156311),\n",
            " ('rabbi', 0.676161527633667),\n",
            " ('adage', 0.6738761067390442),\n",
            " ('son', 0.6668437123298645),\n",
            " ('warrior', 0.6633699536323547)]\n"
          ]
        }
      ],
      "source": [
        "similar_words = wv_sg_model.wv.most_similar(\"man\")\n",
        "pprint.pprint(similar_words)"
      ]
    },
    {
      "cell_type": "code",
      "execution_count": 13,
      "metadata": {
        "colab": {
          "base_uri": "https://localhost:8080/"
        },
        "id": "Q7hpsEniCWNP",
        "outputId": "a669011f-4499-44d9-8ef7-7ad071e6ae54"
      },
      "outputs": [
        {
          "output_type": "stream",
          "name": "stdout",
          "text": [
            "(100,)\n"
          ]
        },
        {
          "output_type": "execute_result",
          "data": {
            "text/plain": [
              "array([ 0.03633919, -0.26761946, -0.01594801, -0.3603746 ,  0.02470017,\n",
              "       -0.47919363,  0.02878089,  0.03035009, -0.28050703,  0.0178106 ,\n",
              "        0.04772088, -0.46471426,  0.08695153,  0.05403184, -0.08409128,\n",
              "       -0.00833202,  0.04237329, -0.16992827, -0.08065882, -0.5641471 ,\n",
              "        0.17687485,  0.09626755,  0.32585612, -0.17767552,  0.13126189,\n",
              "       -0.3128628 , -0.05966834, -0.40156987, -0.28724313, -0.17465322,\n",
              "       -0.08305322, -0.05238189,  0.40297952, -0.28592098,  0.3427388 ,\n",
              "        0.34345925, -0.36226654, -0.11488537, -0.31893104, -0.17817782,\n",
              "        0.1651533 , -0.6364016 , -0.10239278,  0.282463  ,  0.10550076,\n",
              "        0.16009974, -0.20301239, -0.03753223,  0.21163362,  0.30296806,\n",
              "       -0.00707831, -0.41655296, -0.12546517,  0.5012795 , -0.39243814,\n",
              "       -0.29457688, -0.130903  , -0.36938512, -0.8397433 , -0.30205733,\n",
              "        0.1911198 ,  0.1645288 ,  0.45499232,  0.08222981, -0.2276671 ,\n",
              "        0.04477192, -0.09518483, -0.21024923, -0.39791045,  0.07867792,\n",
              "        0.3169906 , -0.12556803,  0.3257174 , -0.05008033,  0.22991641,\n",
              "        0.09697548, -0.22145987,  0.15025784, -0.30162197,  0.42949215,\n",
              "       -0.0045098 , -0.12002514, -0.33232254,  0.24736027, -0.33044457,\n",
              "       -0.02125643,  0.34701693,  0.13841476,  0.03467295, -0.3870487 ,\n",
              "        0.25819406,  0.15422344,  0.14452642,  0.3181616 ,  0.71624225,\n",
              "        0.10703992,  0.3398072 ,  0.12695019, -0.6862478 ,  0.37087873],\n",
              "      dtype=float32)"
            ]
          },
          "metadata": {},
          "execution_count": 13
        }
      ],
      "source": [
        "# Get the actual values of the word embedding\n",
        "print(wv_sg_model.wv['man'].shape)\n",
        "wv_sg_model.wv['man']"
      ]
    },
    {
      "cell_type": "markdown",
      "metadata": {
        "id": "NfF7YqvpppbG"
      },
      "source": [
        "## Word2Vec vs FastText"
      ]
    },
    {
      "cell_type": "markdown",
      "metadata": {
        "id": "d8IV7D6VAEcr"
      },
      "source": [
        "Word2Vec - Skip Gram cannot find similar words to \"electrofishing\" as \"electrofishing\" is not in the vocabulary."
      ]
    },
    {
      "cell_type": "code",
      "execution_count": 15,
      "metadata": {
        "colab": {
          "base_uri": "https://localhost:8080/",
          "height": 314
        },
        "id": "oS9c2uWWquWG",
        "outputId": "324dabee-ed2c-4a0c-ec53-6c83b2291ad1"
      },
      "outputs": [
        {
          "output_type": "error",
          "ename": "KeyError",
          "evalue": "\"Key 'electrofishing' not present in vocabulary\"",
          "traceback": [
            "\u001b[0;31m---------------------------------------------------------------------------\u001b[0m",
            "\u001b[0;31mKeyError\u001b[0m                                  Traceback (most recent call last)",
            "\u001b[0;32m/tmp/ipython-input-2846858098.py\u001b[0m in \u001b[0;36m<cell line: 0>\u001b[0;34m()\u001b[0m\n\u001b[0;32m----> 1\u001b[0;31m \u001b[0msimilar_words\u001b[0m\u001b[0;34m=\u001b[0m\u001b[0mwv_sg_model\u001b[0m\u001b[0;34m.\u001b[0m\u001b[0mwv\u001b[0m\u001b[0;34m.\u001b[0m\u001b[0mmost_similar\u001b[0m\u001b[0;34m(\u001b[0m\u001b[0;34m\"electrofishing\"\u001b[0m\u001b[0;34m)\u001b[0m\u001b[0;34m\u001b[0m\u001b[0;34m\u001b[0m\u001b[0m\n\u001b[0m\u001b[1;32m      2\u001b[0m \u001b[0mpprint\u001b[0m\u001b[0;34m.\u001b[0m\u001b[0mpprint\u001b[0m\u001b[0;34m(\u001b[0m\u001b[0msimilar_words\u001b[0m\u001b[0;34m)\u001b[0m\u001b[0;34m\u001b[0m\u001b[0;34m\u001b[0m\u001b[0m\n",
            "\u001b[0;32m/usr/local/lib/python3.11/dist-packages/gensim/models/keyedvectors.py\u001b[0m in \u001b[0;36mmost_similar\u001b[0;34m(self, positive, negative, topn, clip_start, clip_end, restrict_vocab, indexer)\u001b[0m\n\u001b[1;32m    839\u001b[0m \u001b[0;34m\u001b[0m\u001b[0m\n\u001b[1;32m    840\u001b[0m         \u001b[0;31m# compute the weighted average of all keys\u001b[0m\u001b[0;34m\u001b[0m\u001b[0;34m\u001b[0m\u001b[0m\n\u001b[0;32m--> 841\u001b[0;31m         \u001b[0mmean\u001b[0m \u001b[0;34m=\u001b[0m \u001b[0mself\u001b[0m\u001b[0;34m.\u001b[0m\u001b[0mget_mean_vector\u001b[0m\u001b[0;34m(\u001b[0m\u001b[0mkeys\u001b[0m\u001b[0;34m,\u001b[0m \u001b[0mweight\u001b[0m\u001b[0;34m,\u001b[0m \u001b[0mpre_normalize\u001b[0m\u001b[0;34m=\u001b[0m\u001b[0;32mTrue\u001b[0m\u001b[0;34m,\u001b[0m \u001b[0mpost_normalize\u001b[0m\u001b[0;34m=\u001b[0m\u001b[0;32mTrue\u001b[0m\u001b[0;34m,\u001b[0m \u001b[0mignore_missing\u001b[0m\u001b[0;34m=\u001b[0m\u001b[0;32mFalse\u001b[0m\u001b[0;34m)\u001b[0m\u001b[0;34m\u001b[0m\u001b[0;34m\u001b[0m\u001b[0m\n\u001b[0m\u001b[1;32m    842\u001b[0m         all_keys = [\n\u001b[1;32m    843\u001b[0m             \u001b[0mself\u001b[0m\u001b[0;34m.\u001b[0m\u001b[0mget_index\u001b[0m\u001b[0;34m(\u001b[0m\u001b[0mkey\u001b[0m\u001b[0;34m)\u001b[0m \u001b[0;32mfor\u001b[0m \u001b[0mkey\u001b[0m \u001b[0;32min\u001b[0m \u001b[0mkeys\u001b[0m \u001b[0;32mif\u001b[0m \u001b[0misinstance\u001b[0m\u001b[0;34m(\u001b[0m\u001b[0mkey\u001b[0m\u001b[0;34m,\u001b[0m \u001b[0m_KEY_TYPES\u001b[0m\u001b[0;34m)\u001b[0m \u001b[0;32mand\u001b[0m \u001b[0mself\u001b[0m\u001b[0;34m.\u001b[0m\u001b[0mhas_index_for\u001b[0m\u001b[0;34m(\u001b[0m\u001b[0mkey\u001b[0m\u001b[0;34m)\u001b[0m\u001b[0;34m\u001b[0m\u001b[0;34m\u001b[0m\u001b[0m\n",
            "\u001b[0;32m/usr/local/lib/python3.11/dist-packages/gensim/models/keyedvectors.py\u001b[0m in \u001b[0;36mget_mean_vector\u001b[0;34m(self, keys, weights, pre_normalize, post_normalize, ignore_missing)\u001b[0m\n\u001b[1;32m    516\u001b[0m                 \u001b[0mtotal_weight\u001b[0m \u001b[0;34m+=\u001b[0m \u001b[0mabs\u001b[0m\u001b[0;34m(\u001b[0m\u001b[0mweights\u001b[0m\u001b[0;34m[\u001b[0m\u001b[0midx\u001b[0m\u001b[0;34m]\u001b[0m\u001b[0;34m)\u001b[0m\u001b[0;34m\u001b[0m\u001b[0;34m\u001b[0m\u001b[0m\n\u001b[1;32m    517\u001b[0m             \u001b[0;32melif\u001b[0m \u001b[0;32mnot\u001b[0m \u001b[0mignore_missing\u001b[0m\u001b[0;34m:\u001b[0m\u001b[0;34m\u001b[0m\u001b[0;34m\u001b[0m\u001b[0m\n\u001b[0;32m--> 518\u001b[0;31m                 \u001b[0;32mraise\u001b[0m \u001b[0mKeyError\u001b[0m\u001b[0;34m(\u001b[0m\u001b[0;34mf\"Key '{key}' not present in vocabulary\"\u001b[0m\u001b[0;34m)\u001b[0m\u001b[0;34m\u001b[0m\u001b[0;34m\u001b[0m\u001b[0m\n\u001b[0m\u001b[1;32m    519\u001b[0m \u001b[0;34m\u001b[0m\u001b[0m\n\u001b[1;32m    520\u001b[0m         \u001b[0;32mif\u001b[0m \u001b[0mtotal_weight\u001b[0m \u001b[0;34m>\u001b[0m \u001b[0;36m0\u001b[0m\u001b[0;34m:\u001b[0m\u001b[0;34m\u001b[0m\u001b[0;34m\u001b[0m\u001b[0m\n",
            "\u001b[0;31mKeyError\u001b[0m: \"Key 'electrofishing' not present in vocabulary\""
          ]
        }
      ],
      "source": [
        "similar_words=wv_sg_model.wv.most_similar(\"electrofishing\")\n",
        "pprint.pprint(similar_words)"
      ]
    },
    {
      "cell_type": "markdown",
      "metadata": {
        "id": "5TpkScI8sA9G"
      },
      "source": [
        "### FastText - Skip Gram"
      ]
    },
    {
      "cell_type": "code",
      "execution_count": 16,
      "metadata": {
        "id": "YAqOR1Vqps6M"
      },
      "outputs": [],
      "source": [
        "from gensim.models import FastText"
      ]
    },
    {
      "cell_type": "code",
      "execution_count": 17,
      "metadata": {
        "id": "kqkvyiUw_DRh"
      },
      "outputs": [],
      "source": [
        "# Now we initialize and train FastText with Skip Gram architecture (sg=1)\n",
        "ft_sg_model = FastText(sentences, vector_size=100, window=5, min_count=5, workers=2, sg=1)"
      ]
    },
    {
      "cell_type": "code",
      "execution_count": 18,
      "metadata": {
        "id": "kv26QObJriB7",
        "colab": {
          "base_uri": "https://localhost:8080/"
        },
        "outputId": "33b9ee34-d2c7-4469-c40b-8c81dce939d6"
      },
      "outputs": [
        {
          "output_type": "stream",
          "name": "stdout",
          "text": [
            "[('electrolux', 0.874968945980072),\n",
            " ('electrolyte', 0.8710642457008362),\n",
            " ('electro', 0.8577633500099182),\n",
            " ('electroshock', 0.8568031787872314),\n",
            " ('electroencephalogram', 0.832007884979248),\n",
            " ('electrochemical', 0.831125020980835),\n",
            " ('electric', 0.8300346732139587),\n",
            " ('airbus', 0.8262264132499695),\n",
            " ('airbag', 0.8224617838859558),\n",
            " ('electrogram', 0.8218582272529602)]\n"
          ]
        }
      ],
      "source": [
        "# As we can see, FastText allows us to obtain word vectors for out-of-vocabulary words\n",
        "result = ft_sg_model.wv.most_similar(\"electrofishing\")\n",
        "pprint.pprint(result)"
      ]
    },
    {
      "cell_type": "code",
      "execution_count": 19,
      "metadata": {
        "id": "t2Qjz_MYCjfX",
        "colab": {
          "base_uri": "https://localhost:8080/"
        },
        "outputId": "48352dfb-e402-425c-b505-1c4ce9f683de"
      },
      "outputs": [
        {
          "output_type": "stream",
          "name": "stdout",
          "text": [
            "(100,)\n"
          ]
        },
        {
          "output_type": "execute_result",
          "data": {
            "text/plain": [
              "array([ 0.17177351, -0.17104037,  0.02564673, -0.33383846,  0.36653137,\n",
              "        0.08096031,  0.18407626, -0.05785622, -0.38989955,  0.39162686,\n",
              "       -0.45046014,  0.14309695, -0.3434264 ,  0.6664828 ,  0.26009876,\n",
              "       -0.08787841,  0.1045894 ,  0.20770948, -0.07154228, -0.05125517,\n",
              "       -0.40809676, -0.6492252 ,  0.05229137,  0.39543888, -0.0827712 ,\n",
              "        0.22342601, -0.35481933,  0.01557667,  0.19964893,  0.04995727,\n",
              "       -0.33998355,  0.3519208 ,  0.03212286,  0.18233715,  0.28247193,\n",
              "        0.2640724 ,  0.19282225, -0.47935966, -0.09738942,  0.1269587 ,\n",
              "        0.45822257, -0.2780117 , -0.06177907, -0.05163947,  0.11051451,\n",
              "        0.12771413,  0.02211463, -0.4923245 ,  0.06708912, -0.22173657,\n",
              "       -0.14960353, -0.12172292,  0.29131207,  0.14148726, -0.0589214 ,\n",
              "       -0.3070012 ,  0.403056  , -0.6960889 , -0.04236293,  0.233945  ,\n",
              "       -0.53068316, -0.28946835,  0.51261675,  0.06567864, -0.3251849 ,\n",
              "        0.17715874,  0.08943216, -0.10172655,  0.17786703, -0.02981739,\n",
              "       -0.09702047,  0.4217286 , -0.06641348, -0.06936649, -0.01875036,\n",
              "       -0.37637982,  0.2988322 , -0.04766171, -0.30310813,  0.24456109,\n",
              "       -0.03254446, -0.38770348,  0.33020562,  0.11792136, -0.29014888,\n",
              "       -0.03252371,  0.6079441 , -0.26112372, -0.12471164, -0.04770778,\n",
              "        0.13012853,  0.15504645, -0.2491781 ,  0.20874141,  0.35821125,\n",
              "        0.1008082 , -0.29354998,  0.16208076, -0.4912509 , -0.09295002],\n",
              "      dtype=float32)"
            ]
          },
          "metadata": {},
          "execution_count": 19
        }
      ],
      "source": [
        "# Get the actual values of the word embedding\n",
        "print(ft_sg_model.wv['man'].shape)\n",
        "ft_sg_model.wv['man']"
      ]
    },
    {
      "cell_type": "markdown",
      "metadata": {
        "id": "X0x2aQpfsFSx"
      },
      "source": [
        "### FastText - Continuous Bag-Of-Words (CBOW)"
      ]
    },
    {
      "cell_type": "code",
      "execution_count": 20,
      "metadata": {
        "id": "BUBqvqpc2sbL"
      },
      "outputs": [],
      "source": [
        "# Now we initialize and train FastText with CBOW architecture (sg=0)\n",
        "ft_cbow_model = FastText(sentences, vector_size=100, window=5, min_count=5, workers=2, sg=0)"
      ]
    },
    {
      "cell_type": "code",
      "execution_count": 21,
      "metadata": {
        "id": "kUj1RUzM2nLA",
        "colab": {
          "base_uri": "https://localhost:8080/"
        },
        "outputId": "fdc3f4c5-9240-49b6-f2a6-22506028f094"
      },
      "outputs": [
        {
          "output_type": "stream",
          "name": "stdout",
          "text": [
            "[('fishing', 0.9212799668312073),\n",
            " ('flourishing', 0.9076598286628723),\n",
            " ('flushing', 0.9053551554679871),\n",
            " ('transplanting', 0.9046005010604858),\n",
            " ('vanishing', 0.9027261137962341),\n",
            " ('licensing', 0.9025384187698364),\n",
            " ('refreshing', 0.9024355411529541),\n",
            " ('recycling', 0.9012272953987122),\n",
            " ('flashing', 0.8986076712608337),\n",
            " ('planting', 0.8963770270347595)]\n"
          ]
        }
      ],
      "source": [
        "# Again, FastText allows us to obtain word vectors for out-of-vocabulary words\n",
        "result = ft_cbow_model.wv.most_similar(\"electrofishing\")\n",
        "pprint.pprint(result)"
      ]
    },
    {
      "cell_type": "code",
      "execution_count": 22,
      "metadata": {
        "id": "AmrYQASiCqR1",
        "colab": {
          "base_uri": "https://localhost:8080/"
        },
        "outputId": "77531773-9589-4a86-9825-e55702a4b347"
      },
      "outputs": [
        {
          "output_type": "stream",
          "name": "stdout",
          "text": [
            "(100,)\n"
          ]
        },
        {
          "output_type": "execute_result",
          "data": {
            "text/plain": [
              "array([ 3.1028798 , -1.2217723 ,  1.2732277 , -1.3148365 , -0.18567379,\n",
              "       -2.4471815 ,  2.1811295 , -0.06883701,  0.3037656 ,  1.1851819 ,\n",
              "       -2.6707942 ,  0.05976759, -1.1384342 ,  2.5236266 , -1.2622882 ,\n",
              "        0.63690084,  2.1740477 ,  0.36949086, -1.1865073 , -3.0238652 ,\n",
              "       -1.826202  , -4.547916  ,  1.0419562 , -3.3388221 , -2.1620452 ,\n",
              "       -0.04713392, -2.2491846 , -0.8344177 , -0.8201949 , -0.7588929 ,\n",
              "       -1.0386379 , -0.11066679,  1.5967706 ,  2.9605556 ,  0.3577645 ,\n",
              "       -2.195214  ,  1.618206  , -3.2424374 ,  1.1459817 ,  4.7973075 ,\n",
              "       -1.001269  , -3.9877837 , -2.1830826 ,  0.05670328,  1.0065811 ,\n",
              "       -1.3968618 , -0.8275506 , -1.909152  , -1.2489967 ,  1.8748114 ,\n",
              "        0.39623147, -4.689757  , -1.8322325 ,  4.201226  ,  2.0261052 ,\n",
              "       -1.2057744 , -0.01714281,  0.3687408 , -1.2916758 , -0.6382383 ,\n",
              "        1.7421504 , -0.8406497 ,  2.907589  ,  1.9781829 ,  1.0190717 ,\n",
              "       -0.86243355,  0.66227406, -3.2948072 ,  1.5783062 ,  1.1853025 ,\n",
              "       -1.7088844 ,  1.1174791 , -3.8548656 , -0.81796974, -0.10637132,\n",
              "        0.70157623,  0.05024985,  1.3834887 , -1.189726  ,  2.2148044 ,\n",
              "       -0.85278827, -0.6311534 ,  1.1560892 ,  0.553724  , -1.1217974 ,\n",
              "        0.09667943, -1.9586184 , -2.9129443 ,  0.5243496 ,  2.3207996 ,\n",
              "       -0.62365353, -0.14176759,  3.1568515 , -1.8011347 ,  0.37039208,\n",
              "        0.8396331 ,  2.1091678 ,  1.2374668 , -2.3409626 ,  1.1264216 ],\n",
              "      dtype=float32)"
            ]
          },
          "metadata": {},
          "execution_count": 22
        }
      ],
      "source": [
        "# Get the actual values of the word embedding\n",
        "print(ft_cbow_model.wv['man'].shape)\n",
        "ft_cbow_model.wv['man']"
      ]
    },
    {
      "cell_type": "markdown",
      "metadata": {
        "id": "6hjmOhmRi7Ov"
      },
      "source": [
        "## King - Man + Woman = ?"
      ]
    },
    {
      "cell_type": "markdown",
      "metadata": {
        "id": "Xw7b9OSwjGm0"
      },
      "source": [
        "Try both CBOW and Skip Gram model to calculate \"King - Man + Woman = ?\""
      ]
    },
    {
      "cell_type": "code",
      "execution_count": 23,
      "metadata": {
        "id": "ovTXjSdgrw36",
        "colab": {
          "base_uri": "https://localhost:8080/"
        },
        "outputId": "1c4f85e2-995e-4bf3-ae98-9e9310131986"
      },
      "outputs": [
        {
          "output_type": "stream",
          "name": "stdout",
          "text": [
            "[('president', 0.7909404039382935)]\n"
          ]
        }
      ],
      "source": [
        "# We can specify the positive/negative word list with the positive/negative parameters to create a word expression\n",
        "# Top N most similar words can be specified with the topn parameter\n",
        "result = wv_cbow_model.wv.most_similar(positive=['woman', 'king'], negative=['man'], topn=1)\n",
        "print(result)"
      ]
    },
    {
      "cell_type": "code",
      "execution_count": 24,
      "metadata": {
        "id": "gUtbE2jwq1to",
        "colab": {
          "base_uri": "https://localhost:8080/"
        },
        "outputId": "2950b0fb-5033-4bad-d60a-12a23af60ddc"
      },
      "outputs": [
        {
          "output_type": "stream",
          "name": "stdout",
          "text": [
            "[('luther', 0.6486878395080566)]\n"
          ]
        }
      ],
      "source": [
        "result = wv_sg_model.wv.most_similar(positive=['woman', 'king'], negative=['man'], topn=1)\n",
        "print(result)\n"
      ]
    },
    {
      "cell_type": "code",
      "execution_count": 25,
      "metadata": {
        "id": "3PWf2I4_WZpG",
        "colab": {
          "base_uri": "https://localhost:8080/"
        },
        "outputId": "db866dfb-597c-4fdc-b260-b00610db578a"
      },
      "outputs": [
        {
          "output_type": "stream",
          "name": "stdout",
          "text": [
            "[('joking', 0.8808396458625793)]\n"
          ]
        }
      ],
      "source": [
        "result = ft_cbow_model.wv.most_similar(positive=['woman', 'king'], negative=['man'], topn=1)\n",
        "print(result)\n"
      ]
    },
    {
      "cell_type": "code",
      "execution_count": 26,
      "metadata": {
        "id": "j9x51rRhWZrx",
        "colab": {
          "base_uri": "https://localhost:8080/"
        },
        "outputId": "8d10d1c9-7f87-4240-eb82-abeb82ca08f7"
      },
      "outputs": [
        {
          "output_type": "stream",
          "name": "stdout",
          "text": [
            "[('jarring', 0.7034000754356384)]\n"
          ]
        }
      ],
      "source": [
        "result = ft_sg_model.wv.most_similar(positive=['woman', 'king'], negative=['man'], topn=1)\n",
        "print(result)\n"
      ]
    },
    {
      "cell_type": "markdown",
      "metadata": {
        "id": "KpAd8t-wjTMA"
      },
      "source": [
        "This is not what we expected...Probably not enough data to answer as \"queen\"\n",
        "\n",
        "Let's try with a larger sized training data (Google has already trained Word2Vec with Google News data) in the following section\n"
      ]
    },
    {
      "cell_type": "markdown",
      "metadata": {
        "id": "GMY5w8F7rElp"
      },
      "source": [
        "## Using Pretrained word embeddings with Gensim\n",
        "\n"
      ]
    },
    {
      "cell_type": "markdown",
      "metadata": {
        "id": "keivkY13L4Nz"
      },
      "source": [
        "### 1.Download and load from Google pretrained Word2Vec binary file\n",
        "[Link to Project](https://code.google.com/archive/p/word2vec/)"
      ]
    },
    {
      "cell_type": "code",
      "execution_count": 27,
      "metadata": {
        "id": "teQvZDSirVVC"
      },
      "outputs": [],
      "source": [
        "# Download the pre-trained vectors trained on part of Google News dataset (about 100 billion words)\n",
        "# Beware, this file is big (3.39GB) - might be long waiting!\n",
        "id2 = '0B7XkCwpI5KDYNlNUTTlSS21pQmM'\n",
        "downloaded = drive.CreateFile({'id':id2})\n",
        "downloaded.GetContentFile('GoogleNews-vectors-negative300.bin.gz')"
      ]
    },
    {
      "cell_type": "code",
      "execution_count": 28,
      "metadata": {
        "id": "iTrXl4FRMitm"
      },
      "outputs": [],
      "source": [
        "# Uncompress the downloaded file\n",
        "!gzip -d /content/GoogleNews-vectors-negative300.bin.gz"
      ]
    },
    {
      "cell_type": "code",
      "execution_count": 29,
      "metadata": {
        "id": "64e_sRJ1rhUa"
      },
      "outputs": [],
      "source": [
        "from gensim.models import KeyedVectors\n",
        "import warnings\n",
        "warnings.simplefilter(action='ignore', category=FutureWarning)\n",
        "\n",
        "# Load the pretrained vectors with KeyedVectors instance\n",
        "# Note that we set the limit=100000 here, which means we set a maximum number of word-vectors to read from the file, to avoid out of memory issue and load vectors faster.\n",
        "\n",
        "filename = 'GoogleNews-vectors-negative300.bin'\n",
        "gn_wv_model = KeyedVectors.load_word2vec_format('GoogleNews-vectors-negative300.bin', binary=True, limit=100000)"
      ]
    },
    {
      "cell_type": "code",
      "execution_count": 30,
      "metadata": {
        "id": "PvMQp2-Tr3zl",
        "colab": {
          "base_uri": "https://localhost:8080/"
        },
        "outputId": "7ac6c3d6-a268-489d-9e46-2b6d491a08e8"
      },
      "outputs": [
        {
          "output_type": "stream",
          "name": "stdout",
          "text": [
            "[('queen', 0.7118193507194519)]\n"
          ]
        }
      ],
      "source": [
        "# Now we can try to calculate \"King - Man + Woman = ?\" again\n",
        "result = gn_wv_model.most_similar(positive=['woman', 'king'], negative=['man'], topn=1)\n",
        "print(result)"
      ]
    },
    {
      "cell_type": "code",
      "execution_count": 31,
      "metadata": {
        "id": "O9N64tY4RNlw",
        "colab": {
          "base_uri": "https://localhost:8080/"
        },
        "outputId": "b567b167-7b78-44f5-d514-a049abc5bdd1"
      },
      "outputs": [
        {
          "output_type": "stream",
          "name": "stdout",
          "text": [
            "(300,)\n",
            "(300,)\n"
          ]
        },
        {
          "output_type": "execute_result",
          "data": {
            "text/plain": [
              "array([[0.5332662]], dtype=float32)"
            ]
          },
          "metadata": {},
          "execution_count": 31
        }
      ],
      "source": [
        "# Let's also try to extract the word embeddings and check their shape\n",
        "wv_banana = gn_wv_model[\"banana\"]\n",
        "wv_avocado = gn_wv_model[\"avocado\"]\n",
        "print(wv_banana.shape)\n",
        "print(wv_avocado.shape)\n",
        "\n",
        "# We can also calculate the cosine similarity ourselves with the extracted words\n",
        "from sklearn.metrics.pairwise import cosine_similarity\n",
        "cosine_similarity([wv_banana],[wv_avocado])"
      ]
    },
    {
      "cell_type": "code",
      "execution_count": 32,
      "metadata": {
        "id": "hOgbNjggC7_y",
        "colab": {
          "base_uri": "https://localhost:8080/"
        },
        "outputId": "f90768e9-f467-48a3-df6b-ddc7b534f27b"
      },
      "outputs": [
        {
          "output_type": "stream",
          "name": "stdout",
          "text": [
            "(300,)\n"
          ]
        },
        {
          "output_type": "execute_result",
          "data": {
            "text/plain": [
              "array([ 0.32617188,  0.13085938,  0.03466797, -0.08300781,  0.08984375,\n",
              "       -0.04125977, -0.19824219,  0.00689697,  0.14355469,  0.0019455 ,\n",
              "        0.02880859, -0.25      , -0.08398438, -0.15136719, -0.10205078,\n",
              "        0.04077148, -0.09765625,  0.05932617,  0.02978516, -0.10058594,\n",
              "       -0.13085938,  0.001297  ,  0.02612305, -0.27148438,  0.06396484,\n",
              "       -0.19140625, -0.078125  ,  0.25976562,  0.375     , -0.04541016,\n",
              "        0.16210938,  0.13671875, -0.06396484, -0.02062988, -0.09667969,\n",
              "        0.25390625,  0.24804688, -0.12695312,  0.07177734,  0.3203125 ,\n",
              "        0.03149414, -0.03857422,  0.21191406, -0.00811768,  0.22265625,\n",
              "       -0.13476562, -0.07617188,  0.01049805, -0.05175781,  0.03808594,\n",
              "       -0.13378906,  0.125     ,  0.0559082 , -0.18261719,  0.08154297,\n",
              "       -0.08447266, -0.07763672, -0.04345703,  0.08105469, -0.01092529,\n",
              "        0.17480469,  0.30664062, -0.04321289, -0.01416016,  0.09082031,\n",
              "       -0.00927734, -0.03442383, -0.11523438,  0.12451172, -0.0246582 ,\n",
              "        0.08544922,  0.14355469, -0.27734375,  0.03662109, -0.11035156,\n",
              "        0.13085938, -0.01721191, -0.08056641, -0.00708008, -0.02954102,\n",
              "        0.30078125, -0.09033203,  0.03149414, -0.18652344, -0.11181641,\n",
              "        0.10253906, -0.25976562, -0.02209473,  0.16796875, -0.05322266,\n",
              "       -0.14550781, -0.01049805, -0.03039551, -0.03857422,  0.11523438,\n",
              "       -0.0062561 , -0.13964844,  0.08007812,  0.06103516, -0.15332031,\n",
              "       -0.11132812, -0.14160156,  0.19824219, -0.06933594,  0.29296875,\n",
              "       -0.16015625,  0.20898438,  0.00041771,  0.01831055, -0.20214844,\n",
              "        0.04760742,  0.05810547, -0.0123291 , -0.01989746, -0.00364685,\n",
              "       -0.0135498 , -0.08251953, -0.03149414,  0.00717163,  0.20117188,\n",
              "        0.08300781, -0.0480957 , -0.26367188, -0.09667969, -0.22558594,\n",
              "       -0.09667969,  0.06494141, -0.02502441,  0.08496094,  0.03198242,\n",
              "       -0.07568359, -0.25390625, -0.11669922, -0.01446533, -0.16015625,\n",
              "       -0.00701904, -0.05712891,  0.02807617, -0.09179688,  0.25195312,\n",
              "        0.24121094,  0.06640625,  0.12988281,  0.17089844, -0.13671875,\n",
              "        0.1875    , -0.10009766, -0.04199219, -0.12011719,  0.00524902,\n",
              "        0.15625   , -0.203125  , -0.07128906, -0.06103516,  0.01635742,\n",
              "        0.18261719,  0.03588867, -0.04248047,  0.16796875, -0.15039062,\n",
              "       -0.16992188,  0.01831055,  0.27734375, -0.01269531, -0.0390625 ,\n",
              "       -0.15429688,  0.18457031, -0.07910156,  0.09033203, -0.02709961,\n",
              "        0.08251953,  0.06738281, -0.16113281, -0.19628906, -0.15234375,\n",
              "       -0.04711914,  0.04760742,  0.05908203, -0.16894531, -0.14941406,\n",
              "        0.12988281,  0.04321289,  0.02624512, -0.1796875 , -0.19628906,\n",
              "        0.06445312,  0.08935547,  0.1640625 , -0.03808594, -0.09814453,\n",
              "       -0.01483154,  0.1875    ,  0.12792969,  0.22753906,  0.01818848,\n",
              "       -0.07958984, -0.11376953, -0.06933594, -0.15527344, -0.08105469,\n",
              "       -0.09277344, -0.11328125, -0.15136719, -0.08007812, -0.05126953,\n",
              "       -0.15332031,  0.11669922,  0.06835938,  0.0324707 , -0.33984375,\n",
              "       -0.08154297, -0.08349609,  0.04003906,  0.04907227, -0.24121094,\n",
              "       -0.13476562, -0.05932617,  0.12158203, -0.34179688,  0.16503906,\n",
              "        0.06176758, -0.18164062,  0.20117188, -0.07714844,  0.1640625 ,\n",
              "        0.00402832,  0.30273438, -0.10009766, -0.13671875, -0.05957031,\n",
              "        0.0625    , -0.21289062, -0.06542969,  0.1796875 , -0.07763672,\n",
              "       -0.01928711, -0.15039062, -0.00106049,  0.03417969,  0.03344727,\n",
              "        0.19335938,  0.01965332, -0.19921875, -0.10644531,  0.01525879,\n",
              "        0.00927734,  0.01416016, -0.02392578,  0.05883789,  0.02368164,\n",
              "        0.125     ,  0.04760742, -0.05566406,  0.11572266,  0.14746094,\n",
              "        0.1015625 , -0.07128906, -0.07714844, -0.12597656,  0.0291748 ,\n",
              "        0.09521484, -0.12402344, -0.109375  , -0.12890625,  0.16308594,\n",
              "        0.28320312, -0.03149414,  0.12304688, -0.23242188, -0.09375   ,\n",
              "       -0.12988281,  0.0135498 , -0.03881836, -0.08251953,  0.00897217,\n",
              "        0.16308594,  0.10546875, -0.13867188, -0.16503906, -0.03857422,\n",
              "        0.10839844, -0.10498047,  0.06396484,  0.38867188, -0.05981445,\n",
              "       -0.0612793 , -0.10449219, -0.16796875,  0.07177734,  0.13964844,\n",
              "        0.15527344, -0.03125   , -0.20214844, -0.12988281, -0.10058594,\n",
              "       -0.06396484, -0.08349609, -0.30273438, -0.08007812,  0.02099609],\n",
              "      dtype=float32)"
            ]
          },
          "metadata": {},
          "execution_count": 32
        }
      ],
      "source": [
        "# Get the actual value of the word embedding\n",
        "print(gn_wv_model['man'].shape)\n",
        "gn_wv_model['man']"
      ]
    },
    {
      "cell_type": "markdown",
      "metadata": {
        "id": "12Ws7QvPMq9s"
      },
      "source": [
        "### 2.Load a pretrained word embedding model using API\n",
        "The following code illustrates another way of loading pretrained word embeddings with Gensim. Here we try with GloVe embedding trained on Twitter data"
      ]
    },
    {
      "cell_type": "code",
      "execution_count": 33,
      "metadata": {
        "id": "cvAP4nyYM_qZ",
        "colab": {
          "base_uri": "https://localhost:8080/"
        },
        "outputId": "896308bb-e93d-4060-eba9-392bb4f7d6cb"
      },
      "outputs": [
        {
          "output_type": "stream",
          "name": "stdout",
          "text": [
            "[==================================================] 100.0% 104.8/104.8MB downloaded\n",
            "0.95908207\n",
            "0.040917932987213135\n"
          ]
        }
      ],
      "source": [
        "import gensim.downloader as api\n",
        "\n",
        "# download the model and return as object ready for use\n",
        "model = api.load(\"glove-twitter-25\")\n",
        "# The similarity() function can calculate the cosine similarity between two given words\n",
        "print(model.similarity(\"cat\",\"dog\"))\n",
        "# The distance() function is another way of calculating the similarity between two given words, which returns (1 - cosine similarity) instead\n",
        "print(model.distance(\"cat\",\"dog\"))"
      ]
    },
    {
      "cell_type": "code",
      "execution_count": null,
      "metadata": {
        "id": "Rn0_uRZfDLcx",
        "colab": {
          "base_uri": "https://localhost:8080/"
        },
        "outputId": "a49de76d-f6b5-4618-88be-8988ecde20f7"
      },
      "outputs": [
        {
          "output_type": "stream",
          "name": "stdout",
          "text": [
            "(25,)\n"
          ]
        },
        {
          "output_type": "execute_result",
          "data": {
            "text/plain": [
              "array([ 0.37013 , -0.39648 , -0.021712, -0.6301  , -0.3189  ,  0.34329 ,\n",
              "        0.10968 ,  0.4879  , -0.48663 ,  0.36837 , -0.39179 ,  0.25414 ,\n",
              "       -4.9282  ,  0.067597,  0.37147 ,  0.36817 ,  1.1655  ,  0.092116,\n",
              "       -0.87735 , -0.74562 ,  0.40903 ,  1.5672  , -0.23879 ,  0.24755 ,\n",
              "        0.76386 ], dtype=float32)"
            ]
          },
          "metadata": {},
          "execution_count": 31
        }
      ],
      "source": [
        "# Get the actual value of the word embedding\n",
        "print(model['man'].shape)\n",
        "model['man']"
      ]
    },
    {
      "cell_type": "markdown",
      "metadata": {
        "id": "pqLruu6247Ze"
      },
      "source": [
        "# [Tips] Play with Colab Form Fields\n",
        "**The Form** supports multiple types of fields, including **input fields**, **dropdown menus**.\n",
        "\n",
        "In Lab1 E1, we already used the input fields. Let's try more now. You can edit this section by double-clicking it.\n",
        "\n",
        "Let's get familiar by changing the value in each input field (on the right) and checking the changes in the code (on the left) - and vice versa"
      ]
    },
    {
      "cell_type": "code",
      "execution_count": 34,
      "metadata": {
        "id": "XBNvQmee5QIG",
        "colab": {
          "base_uri": "https://localhost:8080/"
        },
        "outputId": "488c3430-ec5f-4a5f-ff48-b570e5b14e82"
      },
      "outputs": [
        {
          "output_type": "stream",
          "name": "stdout",
          "text": [
            "string is apple\n",
            "slider_value 115\n"
          ]
        }
      ],
      "source": [
        "#@title Example form fields\n",
        "#@markdown please put description\n",
        "\n",
        "string = 'apple'  #@param {type: \"string\"}\n",
        "slider_value = 115  #@param {type: \"slider\", min: 100, max: 200}\n",
        "number = 100  #@param {type: \"number\"}\n",
        "date = '2023-03-17'  #@param {type: \"date\"}\n",
        "pick_me = \"tuesday\"  #@param ['monday', 'tuesday', 'wednesday', 'thursday']\n",
        "select_or_input = \"banana\" #@param [\"apples\", \"bananas\", \"oranges\"] {allow-input: true}\n",
        "\n",
        "\n",
        "#print the output\n",
        "print(\"string is\",string)\n",
        "print('slider_value',slider_value)"
      ]
    },
    {
      "cell_type": "markdown",
      "metadata": {
        "id": "UfESzUvhCZOt"
      },
      "source": [
        "# Lab 2 Exercise\n",
        "Please complete the following **question E1** for Lab 2 and check with your Lab Facilitator in the lab.\n"
      ]
    },
    {
      "cell_type": "markdown",
      "metadata": {
        "id": "DupJY3rOcozM"
      },
      "source": [
        "## E1. Let's find synonyms\n",
        "Let's assume the cosine similarity, or distance, between two word embedding vectors can indicate if the words are semantically similar to each other. In this exercise, you will implement a function called find_synonym(), in which:\n",
        "\n",
        "1. A list of 6 words are given\n",
        "2. You need to implement your own algorithm to find the **synonym for each of the words (i.e. words with the highest cosine similarity or smallest distance)** in the list **from the rest of 5 words** based on the cosine similarity calculated. (Using the .similarity() or distance() function from *Load pretrained word embedding model using API* section above may help)\n",
        "3. Print out the synonyms found\n",
        "\n",
        "Please use the **pretrained 50-dimensional GloVe word embedding** trained on wikipedia and gigaword corpus. (You can use the gensim.downloader to load by passing 'glove-wiki-gigaword-50' to the .load() function, refer to the *Load pretrained word embedding model using API* section above)\n",
        "\n",
        "Before the function, you may need to import any required libraries.\n",
        "\n",
        "\n",
        "\n",
        "\n"
      ]
    },
    {
      "cell_type": "code",
      "execution_count": 36,
      "metadata": {
        "id": "HCd23jclUGYF",
        "colab": {
          "base_uri": "https://localhost:8080/"
        },
        "outputId": "4ec45171-aefb-4f3c-803d-24f5963e1a0e"
      },
      "outputs": [
        {
          "output_type": "stream",
          "name": "stdout",
          "text": [
            "[==================================================] 100.0% 66.0/66.0MB downloaded\n",
            "dog ('dog', 'cat')\n",
            "cat ('cat', 'dog')\n",
            "person ('person', 'people')\n",
            "computer ('computer', 'laptop')\n",
            "people ('people', 'person')\n",
            "laptop ('laptop', 'computer')\n"
          ]
        }
      ],
      "source": [
        "# Complete the following function based on the requirements above\n",
        "#使用api加载预训练模型,只用glove-wiki-gigaword-50数据\n",
        "import gensim.downloader as api\n",
        "model = api.load(\"glove-wiki-gigaword-50\")\n",
        "# The list of words to find synonyms\n",
        "words = [\"dog\", \"cat\", \"person\", \"computer\", \"people\", \"laptop\"]\n",
        "\n",
        "\n",
        "def find_synonym(word):\n",
        "  # 用 .similarity（） 或 distance（） 函数\n",
        "  sim = {}\n",
        "  dis = {}\n",
        "  for voc in words:\n",
        "    if voc!=word:\n",
        "      sim[word,voc] = model.similarity(voc,word)\n",
        "      dis[word,voc] = model.distance(voc,word)\n",
        "\n",
        "  sorted_sim = sorted(sim.items(),key=lambda x: x[1],reverse = True)\n",
        "  sorted_dis = sorted(dis.items(),key=lambda x: x[1],reverse=True)\n",
        "\n",
        "  return(sorted_sim[0][0])\n",
        "  return(sorted_dis[0][0])\n",
        "\n",
        "# Find synonym and return the synonym from the given words list for the given word\n",
        "\n",
        "# Call the function to get the synonyms and print out the synonyms for each word\n",
        "for word in words:\n",
        "  print(word,find_synonym(word))"
      ]
    },
    {
      "cell_type": "markdown",
      "source": [
        "### **E1 Sample Output**\n",
        "The following is the sample output for E1 - Please just only check the output format, i.e. your output DO NOT need to be exactly the same, as long as you fullfill all the E1 requirements given above."
      ],
      "metadata": {
        "id": "xs10-S7N5W7X"
      }
    },
    {
      "cell_type": "markdown",
      "source": [
        "![sample_output.png](data:image/png;base64,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)"
      ],
      "metadata": {
        "id": "jPOnoUCh5eEY"
      }
    }
  ],
  "metadata": {
    "accelerator": "GPU",
    "colab": {
      "provenance": [],
      "include_colab_link": true
    },
    "gpuClass": "standard",
    "kernelspec": {
      "display_name": "Python 3",
      "name": "python3"
    }
  },
  "nbformat": 4,
  "nbformat_minor": 0
}